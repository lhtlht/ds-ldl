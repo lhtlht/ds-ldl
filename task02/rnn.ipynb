{
 "cells": [
  {
   "cell_type": "markdown",
   "metadata": {},
   "source": [
    "# 循环神经网络  \n",
    "本节介绍循环神经网络，下图展示了如何基于循环神经网络实现语言模型。我们的目的是基于当前的输入与过去的输入序列，预测序列的下一个字符。循环神经网络引入一个隐藏变量$H$，用$H_{t}$表示$H$在时间步$t$的值。$H_{t}$的计算基于$X_{t}$和$H_{t-1}$，可以认为$H_{t}$记录了到当前字符为止的序列信息，利用$H_{t}$对序列的下一个字符进行预测。"
   ]
  },
  {
   "cell_type": "markdown",
   "metadata": {},
   "source": [
    "## 循环神经网络的构造\n",
    "\n",
    "我们先看循环神经网络的具体构造。假设$\\boldsymbol{X}_t \\in \\mathbb{R}^{n \\times d}$是时间步$t$的小批量输入，$\\boldsymbol{H}_t  \\in \\mathbb{R}^{n \\times h}$是该时间步的隐藏变量，则：\n",
    "\n",
    "\n",
    "$$\n",
    "\\boldsymbol{H}_t = \\phi(\\boldsymbol{X}_t \\boldsymbol{W}_{xh} + \\boldsymbol{H}_{t-1} \\boldsymbol{W}_{hh}  + \\boldsymbol{b}_h).\n",
    "$$\n",
    "\n",
    "\n",
    "其中，$\\boldsymbol{W}_{xh} \\in \\mathbb{R}^{d \\times h}$，$\\boldsymbol{W}_{hh} \\in \\mathbb{R}^{h \\times h}$，$\\boldsymbol{b}_{h} \\in \\mathbb{R}^{1 \\times h}$，$\\phi$函数是非线性激活函数。由于引入了$\\boldsymbol{H}_{t-1} \\boldsymbol{W}_{hh}$，$H_{t}$能够捕捉截至当前时间步的序列的历史信息，就像是神经网络当前时间步的状态或记忆一样。由于$H_{t}$的计算基于$H_{t-1}$，上式的计算是循环的，使用循环计算的网络即循环神经网络（recurrent neural network）。\n",
    "\n",
    "在时间步$t$，输出层的输出为：\n",
    "\n",
    "\n",
    "$$\n",
    "\\boldsymbol{O}_t = \\boldsymbol{H}_t \\boldsymbol{W}_{hq} + \\boldsymbol{b}_q.\n",
    "$$\n",
    "\n",
    "\n",
    "其中$\\boldsymbol{W}_{hq} \\in \\mathbb{R}^{h \\times q}$，$\\boldsymbol{b}_q \\in \\mathbb{R}^{1 \\times q}$。\n",
    "\n",
    "\n",
    "## 从零开始实现循环神经网络\n",
    "\n",
    "我们先尝试从零开始实现一个基于字符级循环神经网络的语言模型，这里我们使用周杰伦的歌词作为语料，首先我们读入数据："
   ]
  },
  {
   "cell_type": "code",
   "execution_count": 1,
   "metadata": {
    "ExecuteTime": {
     "end_time": "2020-02-22T09:09:21.324019Z",
     "start_time": "2020-02-22T09:09:18.029094Z"
    }
   },
   "outputs": [],
   "source": [
    "import torch\n",
    "import torch.nn as nn\n",
    "import time\n",
    "import math\n",
    "import sys\n",
    "sys.path.append('../')\n",
    "import d2l_jay9460 as d2l\n",
    "(corpus_indices, char_to_idx, idx_to_char, vocab_size) = d2l.load_data_jay_lyrics()\n",
    "device = torch.device('cuda' if torch.cuda.is_available() else 'cpu')"
   ]
  },
  {
   "cell_type": "markdown",
   "metadata": {},
   "source": [
    "### one-hot向量\n",
    "\n",
    "我们需要将字符表示成向量，这里采用one-hot向量。假设词典大小是$N$，每次字符对应一个从$0$到$N-1$的唯一的索引，则该字符的向量是一个长度为$N$的向量，若字符的索引是$i$，则该向量的第$i$个位置为$1$，其他位置为$0$。下面分别展示了索引为0和2的one-hot向量，向量长度等于词典大小。"
   ]
  },
  {
   "cell_type": "code",
   "execution_count": 2,
   "metadata": {
    "ExecuteTime": {
     "end_time": "2020-02-22T09:09:21.356930Z",
     "start_time": "2020-02-22T09:09:21.328009Z"
    }
   },
   "outputs": [
    {
     "name": "stdout",
     "output_type": "stream",
     "text": [
      "tensor([[1., 0., 0.,  ..., 0., 0., 0.],\n",
      "        [0., 0., 1.,  ..., 0., 0., 0.]])\n",
      "torch.Size([2, 1027])\n",
      "tensor([1., 1.])\n"
     ]
    }
   ],
   "source": [
    "def one_hot(x, n_class, dtype=torch.float32):\n",
    "    result = torch.zeros(x.shape[0], n_class, dtype=dtype, device=x.device)\n",
    "    result.scatter_(1, x.long().view(-1,1), 1) #result[i, x[i,0]] = 1 第一个参数dim填写的维度，1按行填写；第二个参数为位置，即下标；第三个参数为填写的数值\n",
    "    return result\n",
    "x = torch.tensor([0., 2])\n",
    "x_one_hot = one_hot(x, vocab_size)\n",
    "print(x_one_hot)\n",
    "print(x_one_hot.shape)\n",
    "print(x_one_hot.sum(dim=1)) #axis写错了，dim才对"
   ]
  },
  {
   "cell_type": "markdown",
   "metadata": {},
   "source": [
    "我们每次采样的小批量的形状是（批量大小, 时间步数）。下面的函数将这样的小批量变换成数个形状为（批量大小, 词典大小）的矩阵，矩阵个数等于时间步数。也就是说，时间步$t$的输入为$\\boldsymbol{X}_t \\in \\mathbb{R}^{n \\times d}$，其中$n$为批量大小，$d$为词向量大小，即one-hot向量长度（词典大小）。"
   ]
  },
  {
   "cell_type": "code",
   "execution_count": 3,
   "metadata": {
    "ExecuteTime": {
     "end_time": "2020-02-22T09:09:21.396825Z",
     "start_time": "2020-02-22T09:09:21.362915Z"
    }
   },
   "outputs": [
    {
     "name": "stdout",
     "output_type": "stream",
     "text": [
      "tensor([[0, 1, 2, 3, 4],\n",
      "        [5, 6, 7, 8, 9]])\n",
      "[tensor([[1., 0., 0.,  ..., 0., 0., 0.],\n",
      "        [0., 0., 0.,  ..., 0., 0., 0.]]), tensor([[0., 1., 0.,  ..., 0., 0., 0.],\n",
      "        [0., 0., 0.,  ..., 0., 0., 0.]]), tensor([[0., 0., 1.,  ..., 0., 0., 0.],\n",
      "        [0., 0., 0.,  ..., 0., 0., 0.]]), tensor([[0., 0., 0.,  ..., 0., 0., 0.],\n",
      "        [0., 0., 0.,  ..., 0., 0., 0.]]), tensor([[0., 0., 0.,  ..., 0., 0., 0.],\n",
      "        [0., 0., 0.,  ..., 0., 0., 0.]])]\n",
      "5 torch.Size([2, 1027])\n"
     ]
    }
   ],
   "source": [
    "def to_onehot(X, n_class):\n",
    "    return [one_hot(X[:,i], n_class) for i in range(X.shape[1])]\n",
    "\n",
    "X = torch.arange(10).view(2, 5)\n",
    "inputs = to_onehot(X, vocab_size)\n",
    "print(X)\n",
    "print(inputs)\n",
    "print(len(inputs), inputs[0].shape)\n"
   ]
  },
  {
   "cell_type": "markdown",
   "metadata": {},
   "source": [
    "### 初始化模型参数"
   ]
  },
  {
   "cell_type": "code",
   "execution_count": 4,
   "metadata": {
    "ExecuteTime": {
     "end_time": "2020-02-22T09:09:21.423752Z",
     "start_time": "2020-02-22T09:09:21.402807Z"
    }
   },
   "outputs": [],
   "source": [
    "num_inputs = vocab_size\n",
    "num_hiddens = 256\n",
    "num_outputs = vocab_size\n",
    "\n",
    "def get_params():\n",
    "    def _one(shape):\n",
    "        param = torch.zeros(shape, device=device, dtype=torch.float32)\n",
    "        nn.init.normal_(param, 0, 0.01)\n",
    "        return torch.nn.Parameter(param)\n",
    "    \n",
    "    #隐藏层参数\n",
    "    W_xh = _one((num_inputs, num_hiddens))\n",
    "    W_hh = _one((num_hiddens, num_hiddens))\n",
    "    b_h = torch.nn.Parameter(torch.zeros(num_hiddens, device=device))\n",
    "    \n",
    "    #输出层参数\n",
    "    W_hq = _one((num_hiddens, num_outputs))\n",
    "    b_q = torch.nn.Parameter(torch.zeros(num_outputs, device=device))\n",
    "    return (W_xh, W_hh, b_h, W_hq, b_q)"
   ]
  },
  {
   "cell_type": "markdown",
   "metadata": {},
   "source": [
    "### 定义模型  \n",
    "函数rnn用循环的方式依次完成循环神经网络每个时间步的计算"
   ]
  },
  {
   "cell_type": "code",
   "execution_count": 5,
   "metadata": {
    "ExecuteTime": {
     "end_time": "2020-02-22T09:09:21.451678Z",
     "start_time": "2020-02-22T09:09:21.434725Z"
    }
   },
   "outputs": [],
   "source": [
    "def rnn(inputs, state, params):\n",
    "    #inputs 和 outputs皆为num_steps（时间步数）个形状为（batch_size, vocab_size）的矩阵\n",
    "    W_xh, W_hh, b_h, W_hq, b_q = params\n",
    "    H, = state\n",
    "    outputs = []\n",
    "    for X in inputs:\n",
    "        H = torch.tanh(torch.matmul(X, W_xh) + torch.matmul(H, W_hh) + b_h)\n",
    "        Y = torch.matmul(H, W_hq) + b_q\n",
    "        outputs.append(Y) #???????????????????????\n",
    "    return outputs, (H,)"
   ]
  },
  {
   "cell_type": "code",
   "execution_count": 6,
   "metadata": {
    "ExecuteTime": {
     "end_time": "2020-02-22T09:09:21.467636Z",
     "start_time": "2020-02-22T09:09:21.459656Z"
    }
   },
   "outputs": [],
   "source": [
    "#函数init_rnn_state初始化隐藏变量，这里的返回值是一个元组。\n",
    "def init_rnn_state(batch_size, num_hiddens, device):\n",
    "    return (torch.zeros((batch_size, num_hiddens), device=device), )"
   ]
  },
  {
   "cell_type": "code",
   "execution_count": 7,
   "metadata": {
    "ExecuteTime": {
     "end_time": "2020-02-22T09:09:31.762104Z",
     "start_time": "2020-02-22T09:09:21.473620Z"
    }
   },
   "outputs": [
    {
     "name": "stdout",
     "output_type": "stream",
     "text": [
      "torch.Size([2, 5])\n",
      "256\n",
      "1027\n",
      "5 torch.Size([2, 1027])\n",
      "5 torch.Size([2, 1027])\n",
      "1 torch.Size([2, 256])\n",
      "1 torch.Size([2, 256])\n"
     ]
    }
   ],
   "source": [
    "print(X.shape)# batch_size为2，时间步为5\n",
    "print(num_hiddens)\n",
    "print(vocab_size)\n",
    "state = init_rnn_state(X.shape[0], num_hiddens, device)\n",
    "inputs = to_onehot(X.to(device), vocab_size)\n",
    "params = get_params()\n",
    "outputs, state_new = rnn(inputs, state, params)\n",
    "print(len(inputs), inputs[0].shape) #输入长度为时间步，大小为（batch_size, 词典长度）\n",
    "print(len(outputs), outputs[0].shape)\n",
    "print(len(state), state[0].shape)\n",
    "print(len(state_new), state_new[0].shape)"
   ]
  },
  {
   "cell_type": "markdown",
   "metadata": {},
   "source": [
    "### 裁剪梯度\n",
    "\n",
    "循环神经网络中较容易出现梯度衰减或梯度爆炸，这会导致网络几乎无法训练。裁剪梯度（clip gradient）是一种应对梯度爆炸的方法。假设我们把所有模型参数的梯度拼接成一个向量 $\\boldsymbol{g}$，并设裁剪的阈值是$\\theta$。裁剪后的梯度\n",
    "\n",
    "\n",
    "$$\n",
    " \\min\\left(\\frac{\\theta}{\\|\\boldsymbol{g}\\|}, 1\\right)\\boldsymbol{g}\n",
    "$$\n",
    "\n",
    "\n",
    "的$L_2$范数不超过$\\theta$。"
   ]
  },
  {
   "cell_type": "code",
   "execution_count": 8,
   "metadata": {
    "ExecuteTime": {
     "end_time": "2020-02-22T09:09:31.788036Z",
     "start_time": "2020-02-22T09:09:31.770083Z"
    }
   },
   "outputs": [],
   "source": [
    "def grad_clipping(params, theta, device):\n",
    "    norm = torch.tensor([0.0], device=device)\n",
    "    for param in params:\n",
    "        norm += (param.grad.data ** 2).sum()\n",
    "    norm = norm.sqrt().item()\n",
    "    if norm > theta:\n",
    "        for param in params:\n",
    "            param.grad.data *= (theta/norm)"
   ]
  },
  {
   "cell_type": "markdown",
   "metadata": {},
   "source": [
    "### 定义预测函数\n",
    "\n",
    "以下函数基于前缀`prefix`（含有数个字符的字符串）来预测接下来的`num_chars`个字符。这个函数稍显复杂，其中我们将循环神经单元`rnn`设置成了函数参数，这样在后面小节介绍其他循环神经网络时能重复使用这个函数。"
   ]
  },
  {
   "cell_type": "code",
   "execution_count": 9,
   "metadata": {
    "ExecuteTime": {
     "end_time": "2020-02-22T09:09:31.826930Z",
     "start_time": "2020-02-22T09:09:31.801001Z"
    }
   },
   "outputs": [],
   "source": [
    "def predict_rnn(prefix, num_chars, rnn, params, init_rnn_state,\n",
    "               num_hiddens, vocab_size, device, idx_to_char, char_to_idx):\n",
    "    state = init_rnn_state(1, num_hiddens, device) #batch_size为1\n",
    "    output = [char_to_idx[prefix[0]]] #记录 prefix加上预测的num_chars个字符\n",
    "    for t in range(num_chars + len(prefix)-1):\n",
    "        #将上一时间步的输出作为当前时间步的输入\n",
    "        X = to_onehot(torch.tensor([[output[-1]]],device=device), vocab_size)\n",
    "        #计算输出和更新隐藏状态\n",
    "        (Y, state) = rnn(X, state, params)\n",
    "        # 下一个时间步的输入是prefix里的字符或者当前的最佳预测字符\n",
    "        if t<len(prefix)-1:\n",
    "            output.append(char_to_idx[prefix[t+1]])\n",
    "        else:\n",
    "            output.append(Y[0].argmax(dim=1).item())\n",
    "    return '-'.join([idx_to_char[i] for i in output])"
   ]
  },
  {
   "cell_type": "code",
   "execution_count": 10,
   "metadata": {
    "ExecuteTime": {
     "end_time": "2020-02-22T09:09:31.911706Z",
     "start_time": "2020-02-22T09:09:31.836905Z"
    }
   },
   "outputs": [
    {
     "data": {
      "text/plain": [
       "'分-开-师-沉-年-习-阵-思-物-到-告-涌'"
      ]
     },
     "execution_count": 10,
     "metadata": {},
     "output_type": "execute_result"
    }
   ],
   "source": [
    "predict_rnn('分开', 10, rnn, params, init_rnn_state, num_hiddens, vocab_size,\n",
    "            device, idx_to_char, char_to_idx)"
   ]
  },
  {
   "cell_type": "markdown",
   "metadata": {},
   "source": [
    "### 困惑度\n",
    "\n",
    "我们通常使用困惑度（perplexity）来评价语言模型的好坏。回忆一下[“softmax回归”](../chapter_deep-learning-basics/softmax-regression.ipynb)一节中交叉熵损失函数的定义。困惑度是对交叉熵损失函数做指数运算后得到的值。特别地，\n",
    "\n",
    "* 最佳情况下，模型总是把标签类别的概率预测为1，此时困惑度为1；\n",
    "* 最坏情况下，模型总是把标签类别的概率预测为0，此时困惑度为正无穷；\n",
    "* 基线情况下，模型总是预测所有类别的概率都相同，此时困惑度为类别个数。\n",
    "\n",
    "显然，任何一个有效模型的困惑度必须小于类别个数。在本例中，困惑度必须小于词典大小`vocab_size`。\n",
    "\n",
    "### 定义模型训练函数\n",
    "\n",
    "跟之前章节的模型训练函数相比，这里的模型训练函数有以下几点不同：\n",
    "\n",
    "1. 使用困惑度评价模型。\n",
    "2. 在迭代模型参数前裁剪梯度。\n",
    "3. 对时序数据采用不同采样方法将导致隐藏状态初始化的不同。"
   ]
  },
  {
   "cell_type": "code",
   "execution_count": 55,
   "metadata": {
    "ExecuteTime": {
     "end_time": "2020-02-22T14:07:24.078791Z",
     "start_time": "2020-02-22T14:07:24.043884Z"
    }
   },
   "outputs": [],
   "source": [
    "def train_and_predict_rnn(rnn, get_params, init_rnn_state, num_hiddens,\n",
    "                          vocab_size, device, corpus_indices, idx_to_char,\n",
    "                          char_to_idx, is_random_iter, num_epochs, num_steps,\n",
    "                          lr, clipping_theta, batch_size, pred_period,\n",
    "                          pred_len, prefixes):\n",
    "    if is_random_iter:\n",
    "        data_iter_fn = d2l.data_iter_random\n",
    "    else:\n",
    "        data_iter_fn = d2l.data_iter_consecutive\n",
    "    params = get_params()\n",
    "    loss = nn.CrossEntropyLoss()\n",
    "\n",
    "    for epoch in range(num_epochs):\n",
    "        if not is_random_iter:  # 如使用相邻采样，在epoch开始时初始化隐藏状态\n",
    "            state = init_rnn_state(batch_size, num_hiddens, device)\n",
    "        l_sum, n, start = 0.0, 0, time.time()\n",
    "        data_iter = data_iter_fn(corpus_indices, batch_size, num_steps, device)\n",
    "        for X, Y in data_iter:\n",
    "            if is_random_iter:  # 如使用随机采样，在每个小批量更新前初始化隐藏状态\n",
    "                state = init_rnn_state(batch_size, num_hiddens, device)\n",
    "            else:  # 否则需要使用detach函数从计算图分离隐藏状态\n",
    "                for s in state:\n",
    "                    s.detach_()\n",
    "            # inputs是num_steps个形状为(batch_size, vocab_size)的矩阵\n",
    "            inputs = to_onehot(X, vocab_size)\n",
    "            # outputs有num_steps个形状为(batch_size, vocab_size)的矩阵\n",
    "            (outputs, state) = rnn(inputs, state, params)\n",
    "            # 拼接之后形状为(num_steps * batch_size, vocab_size)\n",
    "            outputs = torch.cat(outputs, dim=0)\n",
    "            # Y的形状是(batch_size, num_steps)，转置后再变成形状为\n",
    "            # (num_steps * batch_size,)的向量，这样跟输出的行一一对应\n",
    "            #print(Y.shape)\n",
    "            y = torch.flatten(Y.t()) #这里修改一下\n",
    "            #y = torch.flatten(Y.T)\n",
    "            #print(y.shape)\n",
    "            # 使用交叉熵损失计算平均分类误差\n",
    "            l = loss(outputs, y.long())\n",
    "            \n",
    "            # 梯度清0\n",
    "            if params[0].grad is not None:\n",
    "                for param in params:\n",
    "                    param.grad.data.zero_()\n",
    "            l.backward()\n",
    "            grad_clipping(params, clipping_theta, device)  # 裁剪梯度\n",
    "            d2l.sgd(params, lr, 1)  # 因为误差已经取过均值，梯度不用再做平均\n",
    "            l_sum += l.item() * y.shape[0]\n",
    "            n += y.shape[0]\n",
    "\n",
    "        if (epoch + 1) % pred_period == 0:\n",
    "            print('epoch %d, perplexity %f, time %.2f sec' % (\n",
    "                epoch + 1, math.exp(l_sum / n), time.time() - start))\n",
    "            for prefix in prefixes:\n",
    "                print(' -', predict_rnn(prefix, pred_len, rnn, params, init_rnn_state,\n",
    "                    num_hiddens, vocab_size, device, idx_to_char, char_to_idx))\n",
    "    "
   ]
  },
  {
   "cell_type": "code",
   "execution_count": 44,
   "metadata": {
    "ExecuteTime": {
     "end_time": "2020-02-22T14:03:22.472926Z",
     "start_time": "2020-02-22T14:03:22.462953Z"
    }
   },
   "outputs": [],
   "source": [
    "num_epochs, num_steps, batch_size, lr, clipping_theta = 250, 35, 32, 1e2, 1e-2\n",
    "pred_period, pred_len, prefixes = 50, 50, ['分开', '不分开']"
   ]
  },
  {
   "cell_type": "code",
   "execution_count": 57,
   "metadata": {
    "ExecuteTime": {
     "end_time": "2020-02-22T14:28:10.765324Z",
     "start_time": "2020-02-22T14:18:58.293596Z"
    }
   },
   "outputs": [
    {
     "name": "stdout",
     "output_type": "stream",
     "text": [
      "epoch 50, perplexity 68.268988, time 2.49 sec\n",
      " - 分-开- -我-不-要-再-想- -我-不-要-再-想- -我-不-要-再-想- -我-不-要-再-想- -我-不-要-再-想- -我-不-要-再-想- -我-不-要-再-想- -我-不-要-再-想- -我\n",
      " - 不-分-开- - -我-的-要-我-想-狂-的-可-爱-女-人- -坏-坏-的-让-我-疯-狂-的-可-爱-女-人- -坏-坏-的-让-我-疯-狂-的-可-爱-女-人- -坏-坏-的-让-我-疯-狂-的-可-爱\n",
      "epoch 100, perplexity 9.922735, time 2.11 sec\n",
      " - 分-开- -我-想-想-你-想-你- -不-知-不-觉- -你-已-经-一-个-秋- -后-哼-哈- -一-只-两- -我-想-就-这-样-牵- -你-的-手-不-对-口- -如-果-我- -别-你-是-那\n",
      " - 不-分-开-永- -我-不-能-再-想- -我-不- -我-不- -我-不-能- -爱-情-我-的-不-爸- -有-话-是-对-医- -你-在-人-人-抽- - -分-什-么- -其-直-我- -一-子-球- \n",
      "epoch 150, perplexity 2.991332, time 2.21 sec\n",
      " - 分-开- -有-杰-段- -旧-皮-箱- -我-来-就-这-样-牵-着- -一-只-好-酒- -一-颗-心-外-的-溪-边- -默-默-等-待- -娘-子- -一-壶-好-酒- -再-是-我-跟-已-得-猜\n",
      " - 不-分-开-吗- -我-爱-能-爸- -你-檐-走-外- -说-人-海-中-夫- -这-的-躺-美- -我-想-要-你-我-的-我-面-封- -难-道-你-手- -我-想-好-爸- -是-颗-不-外- -没-人\n",
      "epoch 200, perplexity 1.607664, time 2.19 sec\n",
      " - 分-开- -装-蟑-在-双-截- -静-让-盘-停-留- -有-窝-在-角-落- -这-样-就-直-说- -这-样-在-角-落- -不-爽-就-反-驳- -到-底-什-么-奇- -三-蝪-横-反-走- -这\n",
      " - 不-分-开-吗- -我-叫-你-爸- -你-打-我-妈- -这-样-对-吗- -硬-人-海-中- -都-目-没-种- -你-不-懂- -连-一-句-珍-重- -对-一-苦-衷- -全-在-心-用- -没-一-场\n",
      "epoch 250, perplexity 1.309464, time 2.53 sec\n",
      " - 分-开- -沙-杰-我- -印-不-安- -看-什-么-我-干-绕-大- -我-只-耍-来-二-坦-欣-赏- -这-想-开- -说-你-眼-睛-看-着-我- -不-要-我- -泪-你-去-那-气-久- -折\n",
      " - 不-分-开-期- -然-后-将-过-去- -慢-慢-温-习- -让-我-爱-上-你- -那-场-悲-剧- -是-你-完-美-演-出-的-一-场-戏- -宁-愿-心-碎-哭-泣- -再-狠-狠-忘-记- -你-爱\n"
     ]
    }
   ],
   "source": [
    "train_and_predict_rnn(rnn, get_params, init_rnn_state, num_hiddens,\n",
    "                      vocab_size, device, corpus_indices, idx_to_char,\n",
    "                      char_to_idx, True, num_epochs, num_steps, lr,\n",
    "                      clipping_theta, batch_size, pred_period, pred_len,\n",
    "                      prefixes)"
   ]
  },
  {
   "cell_type": "code",
   "execution_count": 56,
   "metadata": {
    "ExecuteTime": {
     "end_time": "2020-02-22T14:16:21.693499Z",
     "start_time": "2020-02-22T14:07:28.590200Z"
    }
   },
   "outputs": [
    {
     "name": "stdout",
     "output_type": "stream",
     "text": [
      "epoch 50, perplexity 63.188633, time 1.59 sec\n",
      " - 分-开- -我-想-要-这-你-的-让-我- -坏-成-我-有- -你-谁-一-直- -我-想-一-场- -我-想-我-的-可-头-女-人- -坏-坏-的-让-我-疯- -的-可-爱-兮- -快-使-用-双\n",
      " - 不-分-开- -我-不-要-的-可-写-女-人- -坏-坏-的-让-我-疯- -的-可-爱-兮- -快-使-用-双- -我-想-一-直- -我-想-一-场- -我-想-我-的-可-头-女-人- -坏-坏-的-让\n",
      "epoch 100, perplexity 7.344551, time 2.00 sec\n",
      " - 分-开- -我-不-要-再-想- -我-不-能-再-想- -我-不- -我-不- -我-不-要-再-想-你- -爱-情-我-的-见-快-就-像-龙-卷-风- -离-不-开-暴-风-圈-来-不-的-见- - \n",
      " - 不-分-开-柳- -你-已-经-这-节- - -后-有-不-觉-我- -你-拿-着-球-不-球- -又-不-底- -一-直-走- -我-想-就-这-样-牵-着-你-的-手-不-放-开- -爱-可-不-可-以-简\n",
      "epoch 150, perplexity 2.096177, time 2.19 sec\n",
      " - 分-开- -我-给-的- -你-怎-么- -装-满-了-明-的-片-牌- -干-什-么- -干-什-么- -我-像-我-这-话-踢-面- -你-什-么- -干-什-么- -停-行-四-明-的-招-牌- -干\n",
      " - 不-分-开-觉- -你-已-经-离-开-我- -不-知-不-觉- -我-跟-了-这-节-奏- -后-知-后-觉- -又-过-了-一-个-秋- -后-知-后-觉- -我-该-好-好-生-活- -我-该-好-好-生\n",
      "epoch 200, perplexity 1.289615, time 2.02 sec\n",
      " - 分-开- -我-给-上- -你-怎-么- -我-满-了-任-督-布-脉- -干-什-么- -干-什-么- -东-被-我-一-脚-踢-开- -快-使-用-双-截-棍- -哼-哼-哈-兮- -快-使-用-双-截\n",
      " - 不-分-开-觉- -你-已-经-离-开-我- -不-知-不-觉- -我-跟-了-这-节-奏- -后-知-后-觉- -又-过-了-一-个-秋- -后-知-后-觉- -我-该-好-好-生-活- -我-该-好-好-生\n",
      "epoch 250, perplexity 1.226912, time 2.06 sec\n",
      " - 分-开- -问-子-堂- -旧-属-了-那-三-代-白- -手-什-么- -干-什-么- -日-行-千-里-系-沙-袋- -飞-什-么- -干-什-么- -日-被-千-里-系-沙-袋- -飞-什-么- -干\n",
      " - 不-分-开-觉-你-就-著-一-直-在-剧-格-作- -瞎-被-我- -你-怪-我- -说-你-怎-么-面-对-我- -甩-开-球-我-满-腔-的-怒-火- -我-想-揍-你-已-经-很-久- -别-想-躲- \n"
     ]
    }
   ],
   "source": [
    "train_and_predict_rnn(rnn, get_params, init_rnn_state, num_hiddens,\n",
    "                      vocab_size, device, corpus_indices, idx_to_char,\n",
    "                      char_to_idx, False, num_epochs, num_steps, lr,\n",
    "                      clipping_theta, batch_size, pred_period, pred_len,\n",
    "                      prefixes)"
   ]
  },
  {
   "cell_type": "markdown",
   "metadata": {},
   "source": [
    "## 循环神经网络的简洁实现  \n",
    "\n",
    "### 定义模型\n",
    "\n",
    "我们使用Pytorch中的`nn.RNN`来构造循环神经网络。在本节中，我们主要关注`nn.RNN`的以下几个构造函数参数：\n",
    "\n",
    "* `input_size` - The number of expected features in the input x\n",
    "* `hidden_size` – The number of features in the hidden state h\n",
    "* `nonlinearity` – The non-linearity to use. Can be either 'tanh' or 'relu'. Default: 'tanh'\n",
    "* `batch_first` – If True, then the input and output tensors are provided as (batch_size, num_steps, input_size). Default: False\n",
    "\n",
    "这里的`batch_first`决定了输入的形状，我们使用默认的参数`False`，对应的输入形状是 (num_steps, batch_size, input_size)。\n",
    "\n",
    "`forward`函数的参数为：\n",
    "\n",
    "* `input` of shape (num_steps, batch_size, input_size): tensor containing the features of the input sequence. \n",
    "* `h_0` of shape (num_layers * num_directions, batch_size, hidden_size): tensor containing the initial hidden state for each element in the batch. Defaults to zero if not provided. If the RNN is bidirectional, num_directions should be 2, else it should be 1.\n",
    "\n",
    "`forward`函数的返回值是：\n",
    "\n",
    "* `output` of shape (num_steps, batch_size, num_directions * hidden_size): tensor containing the output features (h_t) from the last layer of the RNN, for each t.\n",
    "* `h_n` of shape (num_layers * num_directions, batch_size, hidden_size): tensor containing the hidden state for t = num_steps.\n",
    "\n",
    "现在我们构造一个`nn.RNN`实例，并用一个简单的例子来看一下输出的形状。"
   ]
  },
  {
   "cell_type": "code",
   "execution_count": 61,
   "metadata": {
    "ExecuteTime": {
     "end_time": "2020-02-23T08:07:02.854509Z",
     "start_time": "2020-02-23T08:07:02.734828Z"
    }
   },
   "outputs": [
    {
     "name": "stdout",
     "output_type": "stream",
     "text": [
      "torch.Size([35, 2, 256]) torch.Size([1, 2, 256])\n"
     ]
    }
   ],
   "source": [
    "rnn_layer = nn.RNN(input_size=vocab_size, hidden_size=num_hiddens)\n",
    "num_steps, batch_size = 35,2\n",
    "\n",
    "X = torch.rand(num_steps, batch_size, vocab_size)\n",
    "state = None\n",
    "Y, state_new = rnn_layer(X, state)\n",
    "print(Y.shape, state_new.shape)"
   ]
  },
  {
   "cell_type": "markdown",
   "metadata": {},
   "source": [
    "### 定义完整的基于循环神经网络的语言模型"
   ]
  },
  {
   "cell_type": "code",
   "execution_count": 65,
   "metadata": {
    "ExecuteTime": {
     "end_time": "2020-02-23T09:44:49.723601Z",
     "start_time": "2020-02-23T09:44:49.704653Z"
    }
   },
   "outputs": [],
   "source": [
    "class RNNModel(nn.Module):\n",
    "    def __init__(self, rnn_layer, vocab_size):\n",
    "        super(RNNModel, self).__init__()\n",
    "        self.rnn = rnn_layer\n",
    "        self.hidden_size = rnn_layer.hidden_size * (2 if rnn_layer.bidirectional else 1) #如果是双向的，那么就是2否则为1，这里为1\n",
    "        self.vocab_size = vocab_size\n",
    "        self.dense = nn.Linear(self.hidden_size, vocab_size) #定义线性层构造输出函数\n",
    "        \n",
    "    def forward(self, inputs, state):\n",
    "        # inputs.shape: (batch_size, num_steps)\n",
    "        X = to_onehot(inputs, vocab_size)\n",
    "        X = torch.stack(X) #把X的各个元素堆叠起来，X.shape:(num_steps, batch_size, vocab_size)\n",
    "        \n",
    "        hiddens, state = self.rnn(X, state)\n",
    "        hiddens = hiddens.view(-1, hiddens.shape[-1])\n",
    "        \n",
    "        output = self.dense(hiddens)\n",
    "        return output, state"
   ]
  },
  {
   "cell_type": "code",
   "execution_count": 66,
   "metadata": {
    "ExecuteTime": {
     "end_time": "2020-02-23T09:44:52.092037Z",
     "start_time": "2020-02-23T09:44:52.070097Z"
    }
   },
   "outputs": [],
   "source": [
    "def predict_rnn_pytorch(prefix, num_chars, model, vocab_size, device, idx_to_char,\n",
    "                      char_to_idx):\n",
    "    state = None\n",
    "    output = [char_to_idx[prefix[0]]]  # output记录prefix加上预测的num_chars个字符\n",
    "    for t in range(num_chars + len(prefix) - 1):\n",
    "        X = torch.tensor([output[-1]], device=device).view(1, 1)\n",
    "        (Y, state) = model(X, state)  # 前向计算不需要传入模型参数\n",
    "        if t < len(prefix) - 1:\n",
    "            output.append(char_to_idx[prefix[t + 1]])\n",
    "        else:\n",
    "            output.append(Y.argmax(dim=1).item())\n",
    "    return ''.join([idx_to_char[i] for i in output])"
   ]
  },
  {
   "cell_type": "code",
   "execution_count": 67,
   "metadata": {
    "ExecuteTime": {
     "end_time": "2020-02-23T09:44:58.748335Z",
     "start_time": "2020-02-23T09:44:53.670511Z"
    }
   },
   "outputs": [
    {
     "data": {
      "text/plain": [
       "'分开鹿戒戒梭在办墙景错呵'"
      ]
     },
     "execution_count": 67,
     "metadata": {},
     "output_type": "execute_result"
    }
   ],
   "source": [
    "model = RNNModel(rnn_layer, vocab_size).to(device)\n",
    "predict_rnn_pytorch('分开', 10, model, vocab_size, device, idx_to_char, char_to_idx)"
   ]
  },
  {
   "cell_type": "code",
   "execution_count": 70,
   "metadata": {
    "ExecuteTime": {
     "end_time": "2020-02-23T09:48:43.392670Z",
     "start_time": "2020-02-23T09:48:43.368734Z"
    }
   },
   "outputs": [],
   "source": [
    "def train_and_predict_rnn_pytorch(model, num_hiddens, vocab_size, device,\n",
    "                                corpus_indices, idx_to_char, char_to_idx,\n",
    "                                num_epochs, num_steps, lr, clipping_theta,\n",
    "                                batch_size, pred_period, pred_len, prefixes):\n",
    "    loss = nn.CrossEntropyLoss()\n",
    "    optimizer = torch.optim.Adam(model.parameters(), lr=lr)\n",
    "    model.to(device)\n",
    "    for epoch in range(num_epochs):\n",
    "        l_sum, n, start = 0.0, 0, time.time()\n",
    "        data_iter = d2l.data_iter_consecutive(corpus_indices, batch_size, num_steps, device) # 相邻采样\n",
    "        state = None\n",
    "        for X, Y in data_iter:\n",
    "            if state is not None:\n",
    "                # 使用detach函数从计算图分离隐藏状态\n",
    "                if isinstance (state, tuple): # LSTM, state:(h, c)  \n",
    "                    state[0].detach_()\n",
    "                    state[1].detach_()\n",
    "                else: \n",
    "                    state.detach_()\n",
    "            (output, state) = model(X, state) # output.shape: (num_steps * batch_size, vocab_size)\n",
    "            y = torch.flatten(Y.t())\n",
    "            l = loss(output, y.long())\n",
    "            \n",
    "            optimizer.zero_grad()\n",
    "            l.backward()\n",
    "            grad_clipping(model.parameters(), clipping_theta, device)\n",
    "            optimizer.step()\n",
    "            l_sum += l.item() * y.shape[0]\n",
    "            n += y.shape[0]\n",
    "        \n",
    "\n",
    "        if (epoch + 1) % pred_period == 0:\n",
    "            print('epoch %d, perplexity %f, time %.2f sec' % (\n",
    "                epoch + 1, math.exp(l_sum / n), time.time() - start))\n",
    "            for prefix in prefixes:\n",
    "                print(' -', predict_rnn_pytorch(\n",
    "                    prefix, pred_len, model, vocab_size, device, idx_to_char,\n",
    "                    char_to_idx))"
   ]
  },
  {
   "cell_type": "code",
   "execution_count": 71,
   "metadata": {
    "ExecuteTime": {
     "end_time": "2020-02-23T09:50:41.611008Z",
     "start_time": "2020-02-23T09:48:46.381860Z"
    }
   },
   "outputs": [
    {
     "name": "stdout",
     "output_type": "stream",
     "text": [
      "epoch 50, perplexity 11.619536, time 0.45 sec\n",
      " - 分开 我不了 想要我不想你  我不了我想你我不要我不 我不要再想 我不 我不 我不要再想 我不要再想 我\n",
      " - 不分开 我想你你想你我不 我不你我想 我不能再想 我不 我不 我不要再想 我不要再想 我不 我不 我不要再\n",
      "epoch 100, perplexity 1.335515, time 0.56 sec\n",
      " - 分开始一句 快使用双截棍 哼哼哈兮 快使用双截棍 哼哼哈兮 快使用双截棍 哼哼哈兮 快使用双截棍 哼哼哈\n",
      " - 不分开 说着了不那  不想活 说你就是你不了 别不会 原过就只别人眼睛看着我 别发抖 快给我抬起头 有话去\n",
      "epoch 150, perplexity 1.072169, time 0.47 sec\n",
      " - 分开 一句 停留的带刚 不要再河前再到 沙漠之中怎么会有泥鳅 话说完飞过一只海鸥 大峡谷的风呼啸而过 是\n",
      " - 不分开 你在 不不的 爱你怎么面痛我都能为力 我不懂 别的太多 我有一直到当 靠有你人想要 这种当  说你\n",
      "epoch 200, perplexity 1.034750, time 0.47 sec\n",
      " - 分开 一句 停格的客天 我 店看着我 家乡的人我叫我感动的可以女人 坏坏的让我疯狂的可爱女人 坏坏的让我\n",
      " - 不分开 你在 不不的 爱你怎么面痛我 甩开球我满腔的怒火 我想揍你 一个人 后知不觉 你已经离开我 不知不\n",
      "epoch 250, perplexity 1.021353, time 0.37 sec\n",
      " - 分开 一句连停留 带一直到老 我 别发抖 快给我抬起头 有话去对医药箱说 别怪我 别怪我 说你怎么面对我\n",
      " - 不分开 你是我不想 你说 我有一这里我的动的一枚铜币 悲伤得很隐密 它在许愿池里轻轻叹息 太多的我爱你 让\n"
     ]
    }
   ],
   "source": [
    "num_epochs, batch_size, lr, clipping_theta = 250, 32, 1e-3, 1e-2\n",
    "pred_period, pred_len, prefixes = 50, 50, ['分开', '不分开']\n",
    "train_and_predict_rnn_pytorch(model, num_hiddens, vocab_size, device,\n",
    "                            corpus_indices, idx_to_char, char_to_idx,\n",
    "                            num_epochs, num_steps, lr, clipping_theta,\n",
    "                            batch_size, pred_period, pred_len, prefixes)"
   ]
  }
 ],
 "metadata": {
  "kernelspec": {
   "display_name": "python3",
   "language": "python",
   "name": "python3"
  },
  "language_info": {
   "codemirror_mode": {
    "name": "ipython",
    "version": 3
   },
   "file_extension": ".py",
   "mimetype": "text/x-python",
   "name": "python",
   "nbconvert_exporter": "python",
   "pygments_lexer": "ipython3",
   "version": "3.7.6"
  },
  "toc": {
   "base_numbering": 1,
   "nav_menu": {},
   "number_sections": true,
   "sideBar": true,
   "skip_h1_title": false,
   "title_cell": "Table of Contents",
   "title_sidebar": "Contents",
   "toc_cell": false,
   "toc_position": {},
   "toc_section_display": true,
   "toc_window_display": false
  },
  "varInspector": {
   "cols": {
    "lenName": 16,
    "lenType": 16,
    "lenVar": 40
   },
   "kernels_config": {
    "python": {
     "delete_cmd_postfix": "",
     "delete_cmd_prefix": "del ",
     "library": "var_list.py",
     "varRefreshCmd": "print(var_dic_list())"
    },
    "r": {
     "delete_cmd_postfix": ") ",
     "delete_cmd_prefix": "rm(",
     "library": "var_list.r",
     "varRefreshCmd": "cat(var_dic_list()) "
    }
   },
   "types_to_exclude": [
    "module",
    "function",
    "builtin_function_or_method",
    "instance",
    "_Feature"
   ],
   "window_display": false
  }
 },
 "nbformat": 4,
 "nbformat_minor": 2
}
